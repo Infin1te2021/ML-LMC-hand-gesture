{
 "cells": [
  {
   "cell_type": "code",
   "execution_count": 29,
   "metadata": {},
   "outputs": [],
   "source": [
    "import numpy as np\n",
    "import pandas as pd\n",
    "from keras.models import Sequential\n",
    "from keras.layers import Dense\n",
    "from keras.layers import LSTM\n",
    "from keras.models import load_model\n",
    "from keras.utils import np_utils\n",
    "from sklearn.preprocessing import OneHotEncoder\n",
    "from imblearn.over_sampling import SMOTE\n",
    "import time\n",
    "import os\n",
    "os.environ['TF_CPP_MIN_LOG_LEVEL'] = '2'\n"
   ]
  },
  {
   "cell_type": "code",
   "execution_count": 30,
   "metadata": {},
   "outputs": [],
   "source": [
    "dataset = pd.read_csv('fingerRec.csv',header=None)\n",
    "\n",
    "x = dataset.iloc[:, :30].values.round(4)\n",
    "\n",
    "\n",
    "t=100\n",
    "\n",
    "n_samples=len(dataset)/t\n",
    "\n",
    "x = np.reshape(x, (round(x.shape[0]/t), t, x.shape[1]))\n",
    "\n",
    "classes = ['Swipe_Left', 'Swipe_Right', 'Circle']\n",
    "num_classes = len(classes)\n",
    "\n",
    "values = np.array(classes)\n",
    "\n",
    "label=np.ones((int(n_samples),))\n",
    "label[0:20]= 0\n",
    "label[20:40]= 1\n",
    "label[40:60]= 2\n",
    "\n",
    "train_data = [x,label]\n",
    "\n",
    "#print(train_data)\n",
    "\n",
    "\n",
    "(X_train, y_train) = (train_data[0],train_data[1])\n",
    "\n",
    "\n"
   ]
  },
  {
   "cell_type": "code",
   "execution_count": 31,
   "metadata": {},
   "outputs": [],
   "source": [
    "from sklearn.preprocessing import LabelEncoder\n",
    "label_encoder = LabelEncoder()\n",
    "integer_encoded = label_encoder.fit_transform(values)\n",
    "\n",
    "\n",
    "y_one_hot=np_utils.to_categorical(integer_encoded)\n",
    "\n",
    "y=y_one_hot\n",
    "\n",
    "\n",
    "#onehot_encoder = OneHotEncoder(sparse=False)\n",
    "#integer_encoded = integer_encoded.reshape(len(integer_encoded), 1)\n",
    "#onehot_encoded = onehot_encoder.fit_transform(integer_encoded)\n",
    "#print(onehot_encoded)\n",
    "\n",
    "#inverted = label_encoder.inverse_transform([np.argmax(onehot_encoded[0, :])])\n"
   ]
  },
  {
   "cell_type": "code",
   "execution_count": 32,
   "metadata": {},
   "outputs": [
    {
     "name": "stdout",
     "output_type": "stream",
     "text": [
      "[1. 2. 0. 1. 2. 1. 0. 2. 2. 2. 0. 2. 0. 2. 2. 0. 1. 0. 1. 1. 2. 0. 2. 0.\n",
      " 0. 2. 1. 1. 2. 1. 2. 1. 0. 0. 1. 2. 1. 1. 2. 2. 1. 0. 0. 0. 2. 2. 2. 1.]\n"
     ]
    }
   ],
   "source": [
    "#Split data to training and testing data\n",
    "from sklearn.model_selection import train_test_split\n",
    "X_train, X_test, y_train, y_test = train_test_split(train_data[0],train_data[1], test_size = 0.2)\n",
    "print(y_train)\n"
   ]
  },
  {
   "cell_type": "code",
   "execution_count": 33,
   "metadata": {},
   "outputs": [
    {
     "ename": "NameError",
     "evalue": "name 'AveragePooling2D' is not defined",
     "output_type": "error",
     "traceback": [
      "\u001b[1;31m---------------------------------------------------------------------------\u001b[0m",
      "\u001b[1;31mNameError\u001b[0m                                 Traceback (most recent call last)",
      "Cell \u001b[1;32mIn [33], line 6\u001b[0m\n\u001b[0;32m      4\u001b[0m model \u001b[39m=\u001b[39m Sequential()\n\u001b[0;32m      5\u001b[0m model\u001b[39m.\u001b[39madd(LSTM(n_neurons, input_shape\u001b[39m=\u001b[39m(X_train\u001b[39m.\u001b[39mshape[\u001b[39m1\u001b[39m],X_train\u001b[39m.\u001b[39mshape[\u001b[39m2\u001b[39m])))\n\u001b[1;32m----> 6\u001b[0m model\u001b[39m.\u001b[39madd(AveragePooling2D())\n\u001b[0;32m      7\u001b[0m model\u001b[39m.\u001b[39madd(Dense(\u001b[39m1\u001b[39m,kernel_initializer \u001b[39m=\u001b[39m \u001b[39m'\u001b[39m\u001b[39muniform\u001b[39m\u001b[39m'\u001b[39m, activation\u001b[39m=\u001b[39m\u001b[39m'\u001b[39m\u001b[39msoftmax\u001b[39m\u001b[39m'\u001b[39m))\n\u001b[0;32m      8\u001b[0m model\u001b[39m.\u001b[39mcompile(loss\u001b[39m=\u001b[39m\u001b[39m'\u001b[39m\u001b[39mcategorical_crossentropy\u001b[39m\u001b[39m'\u001b[39m, optimizer\u001b[39m=\u001b[39m\u001b[39m'\u001b[39m\u001b[39madam\u001b[39m\u001b[39m'\u001b[39m, metrics\u001b[39m=\u001b[39m[\u001b[39m'\u001b[39m\u001b[39maccuracy\u001b[39m\u001b[39m'\u001b[39m])\n",
      "\u001b[1;31mNameError\u001b[0m: name 'AveragePooling2D' is not defined"
     ]
    }
   ],
   "source": [
    "#Construct the model\n",
    "n_neurons=6\n",
    "start_time=time.time()\n",
    "model = Sequential()\n",
    "model.add(LSTM(n_neurons, input_shape=(X_train.shape[1],X_train.shape[2])))\n",
    "\n",
    "model.add(Dense(1,kernel_initializer = 'uniform', activation='softmax'))\n",
    "model.compile(loss='categorical_crossentropy', optimizer='adam', metrics=['accuracy'])\n",
    "print(X_train.shape[1],X_train.shape[2])\n",
    "model.summary()\n"
   ]
  },
  {
   "cell_type": "code",
   "execution_count": null,
   "metadata": {},
   "outputs": [],
   "source": []
  },
  {
   "cell_type": "code",
   "execution_count": null,
   "metadata": {},
   "outputs": [],
   "source": [
    "#Train the model \n",
    "model.fit(X_train, y_train, epochs=100, batch_size=2)\n",
    "\n",
    "start_time=time.time()\n",
    "#Evaluation of the Training time\n",
    "print (\"%s Minutes of Execution\" %str((time.time()-start_time)/60))\n",
    "\n",
    "#Save the model for prediction\n",
    "model.save('model_test.h5')\n",
    "print (\"Model Saved\")\n",
    "\n",
    "# Evaluate the model on CV Data\n",
    "scores = model.evaluate(X_test, y_test, verbose=1)\n",
    "print (\"%s: %.2f%%\" % (model.metrics_names[1], scores[1]*100))"
   ]
  },
  {
   "attachments": {},
   "cell_type": "markdown",
   "metadata": {},
   "source": [
    "https://github.com/M1thun/Dynamic-Hand-Gesture-Recognition-using-3D-CNN/blob/master/Dynamic%20Hand%20Gesture%20Recognition%20using%203D%20CNN.py\n",
    "\n",
    "https://github.com/kushalk7/Gesture-recognition-using-CNNLSTM/blob/master/gesture-CNNLSTM-3d.ipynb"
   ]
  }
 ],
 "metadata": {
  "kernelspec": {
   "display_name": "Python 3",
   "language": "python",
   "name": "python3"
  },
  "language_info": {
   "codemirror_mode": {
    "name": "ipython",
    "version": 3
   },
   "file_extension": ".py",
   "mimetype": "text/x-python",
   "name": "python",
   "nbconvert_exporter": "python",
   "pygments_lexer": "ipython3",
   "version": "3.10.4 (tags/v3.10.4:9d38120, Mar 23 2022, 23:13:41) [MSC v.1929 64 bit (AMD64)]"
  },
  "orig_nbformat": 4,
  "vscode": {
   "interpreter": {
    "hash": "e450050b432e843bda3c41bf3272c133bfc370a7003f3e377e27f87a49ce1127"
   }
  }
 },
 "nbformat": 4,
 "nbformat_minor": 2
}
